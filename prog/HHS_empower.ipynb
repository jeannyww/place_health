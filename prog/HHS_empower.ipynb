{
 "cells": [
  {
   "cell_type": "markdown",
   "metadata": {},
   "source": [
    "\n",
    "\n",
    "# Setting up pvenv with the command line \n",
    "\n",
    "- to see the current system installation python libraries \n",
    "pip list \n",
    "\n",
    "- to create a new venv (venv module) \n",
    "\n",
    "python -m venv pvenv\n",
    "dir\n",
    "- to activate the venv \n",
    "pvenv\\Scripts\\activate.bat\n",
    "where python\n",
    "- gives oyu paths to current python command. this version uses Python312 \n",
    "\n",
    "pip list\n",
    "\n",
    "- installing packges only installs the specific packages you need. \n",
    "\n",
    "pip install requests\n",
    "- requests\n",
    "- webdriver-manager\n",
    "- selenium \n",
    "\n",
    "- requirements.txt file \n",
    "\n",
    "pip list \n",
    "pip freeze\n",
    "\n",
    "- deactivate the environment \n",
    "\n",
    "deactivate \n",
    "- edelete venv (delete [venv) ]) (/s deletes all subdirectories too )\n",
    "\n",
    "rmdir penv /s"
   ]
  },
  {
   "cell_type": "markdown",
   "metadata": {},
   "source": [
    "# Instructions from jenny \n",
    "Here’s a list of some of the sites where we have identified useful weather data. Probably the easiest one to start with is the HHS emPOWER data. These data are already collated by year (look at the bottom of the page on the lower righthand corner). I don’t even know what web scraping really is – but I trust that you can explain it to me sometime 😊\n",
    "\n",
    " \n",
    "\n",
    "Heat \n",
    "\n",
    "1.       PRISM Climate Group: Oregon State University - https://prism.oregonstate.edu/recent/  \n",
    "\n",
    " \n",
    "\n",
    "Hurricanes / Tropical Cyclone / Flooding  \n",
    "\n",
    "1.       Best Track Data - Atlantic Hurricane Database: https://www.nhc.noaa.gov/data/#hurdat  \n",
    "\n",
    "2.       NASA's SEDAC: https://sedac.ciesin.columbia.edu/ [Thanks to Kristen Cowan!) \n",
    "\n",
    "a.       Upcoming training on Nov 13: https://www.earthdata.nasa.gov/learn/webinars-and-tutorials/sedac-13-11-2023  \n",
    "\n",
    "b.       https://sedac.ciesin.columbia.edu/data/set/pend-gdis-1960-2018/data-download [Disaster datasets] \n",
    "\n",
    " \n",
    "\n",
    "Physical Risk \n",
    "\n",
    "1.       National Risk Index https://hazards.fema.gov/nri/data-resources  \n",
    "\n",
    " \n",
    "\n",
    "Vulnerable populations to power outages – Medicare beneficiaries with electricity dependent devices  \n",
    "\n",
    "1.       The HHS emPOWER Program: https://empowerprogram.hhs.gov/about-empowermap.html  \n",
    "\n",
    " \n",
    "\n",
    "Probably the easiest one to start with is the HHS emPOWER data. These data are already collated by year (look at the bottom of the page on the lower righthand corner). "
   ]
  },
  {
   "cell_type": "markdown",
   "metadata": {},
   "source": [
    "# Importing the python libraries    "
   ]
  },
  {
   "cell_type": "code",
   "execution_count": 6,
   "metadata": {
    "tags": []
   },
   "outputs": [
    {
     "data": {
      "text/plain": [
       "'<!doctype html>\\n<html lang=\"en\">\\n<head>\\n  <meta charset=\"utf-8\">\\n  <title>HHS emPOWER Program - About emPOWER Map</title>\\n\\n  <!-- Mobile Specific Metas\\n================================================== -->\\n  <meta name=\"HandheldFriendly\" content=\"True\">\\n  <meta name=\"MobileOptimized\" content=\"320\">\\n  <meta name=\"viewport\" content=\"width=device-width, initial-scale=1.0\">\\n  <!-- Global site tag (gtag.js) - Google Analytics -->\\n\\n<script async src=\"https://www.googletagmanager.com/gtag/js?id=G-8XG38W3PE4\"></script>\\n\\n<script>\\n    window.dataLayer = window.dataLayer || [];\\n\\n    function gtag() {\\n        dataLayer.push(arguments);\\n    }\\n    gtag(\\'js\\', new Date());\\n\\n    gtag(\\'config\\', \"G-8XG38W3PE4\", {\\n      custom_map: { dimension1: \\'resource_name\\', dimension2: \\'page_section\\' }\\n    });\\n</script>\\n  <script src=\"https://kit.fontawesome.com/e701cb4bd8.js\" crossorigin=\"anonymous\"></script>\\n  <link rel=\"stylesheet\" href=\"stylesheets/styles.css\">\\n  <link rel=\"stylesheet\" href=\"stylesheets/application.css\">\\n  \\n  <script src=\"javascripts/uswds.min.js\"></script>\\n  <script src=\"javascripts/application.min.js\"></script>\\n  \\n</head>\\n<body>\\n<div id=\"hhsCoBrandedHeader\" class=\"js-ga-page-section\" data-ga-page-section=\"hhs co-branded header\">\\n\\n  <div id=\"topRow\" class=\"row\">\\n\\n    <span id=\"logo\" class=\"logo\"><a href=\"https://www.hhs.gov/\">HHS<span class=\"gov\">.gov</span></a></span>\\n\\n    <span id=\"site-name\" class=\"site-name\">U.S. Department of Health &amp; Human Services</span>\\n\\n    <span id=\"explore\" class=\"shown\"><a href=\"https://www.hhs.gov/\">HHS.gov</a></span>\\n\\n  </div>\\n\\n</div>\\n\\n<header class=\"usa-header usa-header--extended empwr-header--extended empwr-subpage__header\">\\n\\n    <div class=\"grid-container\">\\n\\n        <div class=\"usa-navbar\" role=\"none\">\\n\\n            <div class=\"usa-logo\" id=\"extended-mega-logo\" role=\"none\">\\n                <em class=\"usa-logo__text empwr-logo__text\"><a href=\"/\" title=\"Home\" aria-label=\"Home\">HHS emPOWER Program Platform</a></em>\\n            </div>\\n\\n            <button class=\"usa-menu-btn\">Menu</button>\\n\\n        </div>\\n\\n    </div>\\n\\n    <nav aria-label=\"Primary navigation\" class=\"usa-nav empwr-nav js-ga-page-section\" data-ga-page-section=\"primary navigation\">\\n\\n        <div class=\"usa-nav__inner\" role=\"none\"><button class=\"usa-nav__close\"><img src=\"../images/close.svg\" role=\"img\" alt=\"close\"></button>\\n\\n            <ul class=\"usa-nav__primary usa-accordion empwr-nav__primary\">\\n\\n                <!--TODO current section should have \\'usa-current\\' as class-->\\n\\n                <li class=\"usa-nav__primary-item empwr-nav__primary-item\">\\n                    <a class=\"usa-nav__link\" href=\"/index.html\"><span>Home</span></a>\\n                </li>\\n\\n                <li class=\"usa-nav__primary-item empwr-nav__primary-item\">\\n                    <a class=\"usa-nav__link\" href=\"/about.html\"><span>About</span></a>\\n                </li>\\n\\n                <li class=\"usa-nav__primary-item empwr-nav__primary-item\">\\n                    <a class=\"usa-nav__link\" href=\"/in-action.html\"><span>emPOWER in Action</span></a>\\n                </li>\\n\\n                <li class=\"usa-nav__primary-item empwr-nav__primary-item\">\\n\\n                    <button class=\"usa-accordion__button usa-nav__link\" aria-expanded=\"false\" aria-controls=\"extended-mega-nav-section-one\"><span>Data & Tools</span></button>\\n\\n                    <div id=\"extended-mega-nav-section-one\" class=\"usa-nav__submenu usa-megamenu\" role=\"navigation\">\\n\\n                        <div class=\"grid-row grid-gap-4\" role=\"none\">\\n                            <div class=\"usa-col\" role=\"none\">\\n\\n                                <ul class=\"usa-nav__submenu-list\">\\n\\n                                    <li class=\"usa-nav__submenu-item\">\\n                                        <a href=\"/about-empowermap.html\" class=\"\">HHS emPOWER Map</a>\\n                                    </li>\\n\\n                                    <li class=\"usa-nav__submenu-item\">\\n                                        <a href=\"/empowermap\" class=\"\">HHS emPOWER Map - Launch</a>\\n                                    </li>\\n\\n                                    <li class=\"usa-nav__submenu-item\">\\n                                        <a href=\"/empower-rest.html\" class=\"\">HHS emPOWER REST Service</a>\\n                                    </li>\\n\\n                                    <li class=\"usa-nav__submenu-item\">\\n                                        <a href=\"/empower-ai.html\" class=\"\">emPOWER AI</a>\\n                                    </li>\\n\\n                                </ul>\\n\\n                            </div>\\n\\n                            <div class=\"usa-col\" role=\"none\">\\n\\n                                <ul class=\"usa-nav__submenu-list\">\\n\\n                                    <li class=\"usa-nav__submenu-item\">\\n                                        <a href=\"/de-identified-dataset.html\">HHS emPOWER Emergency<br/>Planning Dataset</a>\\n                                    </li>\\n\\n                                    <li class=\"usa-nav__submenu-item\">\\n                                        <a href=\"/outreach-individual-dataset.html\">HHS emPOWER Emergency<br/>Response Outreach Dataset</a>\\n                                    </li>\\n\\n                                    <li class=\"usa-nav__submenu-item\">\\n                                        <a href=\"/chip-data-pilot.html\">emPOWERing Medicaid & Children\\'s<br/> Health Insurance Program Data Pilot</a>\\n                                    </li>\\n\\n                                </ul>\\n\\n                            </div>\\n\\n                            <div class=\"usa-col\" role=\"none\">\\n                            </div>\\n\\n                        </div>\\n\\n                    </div>\\n\\n\\n                </li>\\n\\n                <li class=\"usa-nav__primary-item empwr-nav__primary-item\">\\n                    <a class=\"usa-nav__link\" href=\"/training.html\"><span>Training</span></a>\\n                </li>\\n\\n                <li class=\"usa-nav__primary-item empwr-nav__primary-item\">\\n                    <a class=\"usa-nav__link\" href=\"/resources.html\"><span>Resources</span></a>\\n                </li>\\n\\n                <li class=\"usa-nav__primary-item empwr-nav__primary-item\">\\n                    <a class=\"usa-nav__link\" href=\"/faqs.html\"><span>FAQs</span></a>\\n                </li>\\n\\n                <li class=\"usa-nav__primary-item empwr-nav__primary-item\">\\n                    <a class=\"usa-nav__link\" href=\"/news.html\"><span>News</span></a>\\n                </li>\\n\\n            </ul>\\n\\n            <div class=\"usa-nav__secondary\" role=\"navigation\">\\n\\n                <!--\\n\\n                <div class=\"gcse-search\"></div> -->\\n\\n            </div>\\n\\n        </div>\\n    </nav>\\n\\n</header>\\n\\n\\n\\n<div class=\"usa-section\">\\n  <div class=\"grid-container\">\\n    <div class=\"grid-row grid-gap\">\\n\\n      <main class=\"usa-layout-docs__main desktop:grid-col-8 usa-prose usa-layout-docs\" id=\"main-content\">\\n\\n        <h1>HHS emPOWER Map</h1>\\n\\n        <p><strong>Why the HHS emPOWER Map is Needed</strong></p>\\n\\n        <p>Over 3 million Medicare beneficiaries rely on electricity-dependent durable medical and assistive equipment and devices, such as ventilators, to live independently in their homes. Severe weather and other emergencies, especially those with prolonged power outages, can be life-threatening for these individuals. The <a href=\"/empowermap\">HHS emPOWER Map</a>, launched in 2015, provides a geospatial view of this critical de-identified data, down to the ZIP Code. This information helps communities to better anticipate, plan for, and address the potential needs of electricity-dependent at-risk individuals who may rapidly need assistance in the event of an incident, emergency, or disaster.</p>\\n\\n        <p><strong>Who can access the HHS emPOWER Map</strong></p>\\n\\n        <p>The HHS emPOWER Map is a publicly available interactive map that anyone can access and use.     Detailed instructions on how to access and use the map are included in the HHS emPOWER Map Job Aid available in the Resources box on this page.</p>\\n\\n        <p><strong>What the HHS emPOWER Map Offers</strong></p>\\n\\n        <p>The HHS emPOWER Map provides a monthly updated de-identified total at the national, state, territory, county, and ZIP Code levels for Medicare beneficiaries that are currently enrolled in the Centers for Medicare and Medicaid Service Medicare Fee-For-Service (Parts A/B) or Medicare Advantage (Part C). The map also provides a monthly updated total for the number of Medicare beneficiaries who have had an administrative claim for one or more types of electricity-dependent durable medical and assistive equipment (DME) and devices, as well as at-risk combinations data for those who rely on a certain essential health care service(s) and any electricity-dependent DME and devices. The map also features different base map options and near-real time natural hazard data that includes but is not limited to: severe weather, hurricanes, flooding, wildfire and earthquakes. Users also have the ability to create unique aggregations by geography and export the data, as well as the ability to access historical HHS emPOWER Map datasets for further analysis. To learn more about the data provided by the HHS emPOWER Map, access the HHS emPOWER Quick Data Reference Guide in the Resources box on this page.</p>\\n\\n        <p><strong>How the HHS emPOWER Map is Making an Impact</strong></p>\\n\\n        <p>The HHS emPOWER Map gives every public health official, emergency manager, healthcare coalition and provider, first responder, electric company, and community members across the nation the power to discover the electricity-dependent Medicare population total in their state, territory, county, and ZIP Code. When combined with real-time severe weather and hazard maps, communities can easily anticipate, plan for, and address the needs of this population prior to, during, and after an emergency. For example, communities leverage the HHS emPOWER Map to help inform decision making regarding optimal shelter locations and resource allocation, evacuation assistance needs and power restoration prioritization following an incident, emergency or disaster.</p>\\n\\n        <p><strong>Learn more about the HHS emPOWER Map and available historical map datasets by accessing the materials in the Resources and Historical Dataset boxes on this page.</strong></p>\\n\\n      </main>\\n\\n      <div class=\"usa-layout-docs__sidenav desktop:grid-col-4 empwr-card\" role=\"none\">\\n        <div class=\"empwr-section__image\"><img src=\"images/page-pics_elderly_with_monitor.jpg\"\\n            alt=\"elderly man with an oxygen machine\"></div>\\n\\n        <a class=\"usa-button empwr-launch-button\" href=\"/empowermap\"><span><i class=\"fas fa-mouse-pointer fa-flip-horizontal\"></i></span><span>Select here to launch the HHS emPOWER Map</span></a>\\n\\n        <div class=\"empwr-card__container\" role=\"none\">\\n          <div>\\n            <h2><i class=\"far fa-file-alt\"></i><span>Resources</span></h2>\\n          </div>\\n          <ul>\\n            <li><a href=\"/Map-Job-Aid.pdf\" target=\"_blank\">HHS emPOWER Map Job Aid</a></li>\\n            <li><a href=\"https://services2.arcgis.com/ZQ4jTQn6k7VPXEwO/arcgis/rest/services/HHS_emPOWER_REST_Service_Public/FeatureServer\">HHS emPOWER REST Service</a></li>\\n            <li><a href=\"/REST-Service-Job-Aid.pdf\" target=\"_blank\">HHS emPOWER REST Service Job Aid</a></li>\\n            <li><a href=\"/Quick-Data-Reference-Guide.pdf\"  target=\"_blank\">HHS emPOWER Quick Data Reference Guide</a></li>\\n          </ul>\\n        </div>\\n\\n        <div class=\"empwr-card__container\" role=\"none\">\\n        <div>\\n          <h2><i class=\"fas fa-chart-bar\"></i><span>Historical Datasets</span></h2>\\n        </div>\\n          <ul>\\n            <li><a href=\"/HHSemPOWERMap_HistoricalDataset_Dictionary.xlsx\">Data Dictionary</a></li>\\n            <li><a href=\"/2016_HHSemPOWERMapHistoricalDataset.xlsx\">2016</a></li>\\n            <li><a href=\"/2017_HHSemPOWERMapHistoricalDataset.xlsx\">2017</a></li>\\n            <li><a href=\"/2018_HHSemPOWERMapHistoricalDataset.xlsx\">2018</a></li>\\n            <li><a href=\"/2019_HHSemPOWERMapHistoricalDataset.xlsx\">2019</a></li>\\n            <li><a href=\"/2020_HHSemPOWERMapHistoricalDataset.xlsx\">2020</a></li>\\n            <li><a href=\"/2021_HHSemPOWERMapHistoricalDataset.xlsx\">2021</a></li>\\n            <li><a href=\"/2022_HHSemPOWERMapHistoricalDataset.xlsx\">2022</a></li>\\n            <li><a href=\"/2023_HHSemPOWERMapHistoricalDataset.xlsx\">2023</a></li>\\n          </ul>\\n        </div>\\n\\n      </div>\\n\\n    </div>\\n  </div>\\n</div>\\n<div class=\"grid-container usa-footer__return-to-top\" role=\"none\">\\n  <a href=\"#\">Return to top</a>\\n</div>\\n\\n<footer class=\"usa-footer usa-footer--big js-ga-page-section\" data-ga-page-section=\"footer\">\\n\\n  <div class=\"grid-container\">\\n    <h2>Useful Links</h2>\\n    <p class=\"links\">\\n      <a href=\"https://ASPR.HHS.gov\" target=\"_blank\">HHS.ASPR.gov</a>&nbsp;|&nbsp;\\n      <a href=\"https://asprtracie.hhs.gov/\" target=\"_blank\">ASPR TRACIE </a>&nbsp;|&nbsp;\\n      <a href=\"https://www.phe.gov/Preparedness/planning/abc/Pages/atrisk.aspx\" target=\"_blank\">ASPR At-Risk Individuals</a>&nbsp;|&nbsp;\\n      <a href=\"https://www.phe.gov/Preparedness/planning/hpp/Pages/default.aspx\" target=\"_blank\">ASPR Hospital Preparedness Program</a>\\n    </p>\\n    <p class=\"links\">\\n      <a href=\"https://geohealth.hhs.gov/arcgis/home/\" target=\"_blank\">HHS GeoHEALTH Platform</a>&nbsp;|&nbsp;\\n      <a href=\"https://aspr.hhs.gov/NDMS/Pages/default.aspx\" target=\"_blank\">ASPR National Disaster Medical System</a>&nbsp;|&nbsp;\\n      <a href=\"https://www.train.org/main/welcome\" target=\"_blank\">TRAIN Learning Network</a>\\n    </p>\\n  </div>\\n\\n  <div class=\"grid-container\">\\n\\n          <p class=\"links\">\\n            <a href=\"/\">Home</a> &nbsp;|&nbsp;\\n            <a href=\"mailto:empower@hhs.gov\">Contact Us</a> &nbsp;|&nbsp;\\n            <a href=\"https://www.hhs.gov/web/policies-and-standards/hhs-web-policies/accessibility/index.html\" target=\"_blank\">Accessibility </a> &nbsp;|&nbsp;\\n            <a href=\"https://www.hhs.gov/web/policies-and-standards/hhs-web-policies/privacy/index.html\" target=\"_blank\"> Privacy Policies </a> &nbsp;|&nbsp;\\n            <a href=\"https://www.hhs.gov/vulnerability-disclosure-policy/index.html\" target=\"_blank\">Vulnerability Disclosure Policy</a> &nbsp;|&nbsp;\\n            <a href=\"https://www.phe.gov/preparedness/Pages/disclaimer.aspx\" target=\"_blank\">Disclaimer</a> &nbsp;|&nbsp;\\n            <a href=\"http://www.hhs.gov/plugins.html\" target=\"_blank\">HHS Viewers &amp; Players</a>&nbsp;|&nbsp;\\n            <a href=\"http://www.hhs.gov/open/plain-writing/index.html\" target=\"_blank\">HHS Plain Language</a>\\n          </p>          \\n\\n          <p>Assistant Secretary for Preparedness and Response (ASPR), 200 Independence Ave., SW, Washington, DC 20201</p>\\n\\n          <p class=\"links\">\\n            <a href=\"http://www.hhs.gov/\" target=\"_blank\">U.S. Department of Health and Human Services</a>&nbsp;|&nbsp;\\n            <a href=\"http://www.usa.gov/\" target=\"_blank\">USA.gov</a>&nbsp;|&nbsp;\\n            <a href=\"http://www.usa.gov/gobiernousa/\" target=\"_blank\">GobiernoUSA.gov</a>&nbsp;|&nbsp;\\n            <a href=\"https://www.healthcare.gov/\" target=\"_blank\">HealthCare.gov</a> in\\n            <a href=\"https://www.healthcare.gov/language-resource\" target=\"_blank\">Other Languages</a>\\n          </p>\\n          <p><img src=\"https://www.phe.gov/Style%20Library/phe.hhs.gov/Images/PHEgovLogo.png\" alt=\"PHE Logo\" title=\"PHE Logo\"></p>\\n\\n  </div>\\n</footer>\\n</body>\\n</html>\\n'"
      ]
     },
     "execution_count": 6,
     "metadata": {},
     "output_type": "execute_result"
    }
   ],
   "source": [
    "# pvenv/Scripts/activate.bat\n",
    "# pip install -r requirements.txt\n",
    "from colorama import just_fix_windows_console\n",
    "just_fix_windows_console()\n",
    "from urllib import response\n",
    "import requests\n",
    "\n",
    "url = \"https://empowerprogram.hhs.gov/about-empowermap.html\"\n",
    "resp = requests.get(url)\n",
    "\n",
    "# Outputs text from the resp object that was created, this is the html code for the empower program webpage \n",
    "resp.text"
   ]
  },
  {
   "cell_type": "code",
   "execution_count": 1,
   "metadata": {},
   "outputs": [],
   "source": [
    "# the thing that drives the chrome desktop application \n",
    "# from selenium import webdriver\n",
    "# browser=webdriver.Firefox()\n",
    "# browser.get('https://empowerprogram.hhs.gov/about-empowermap.html')\n",
    "\n",
    "\n"
   ]
  },
  {
   "cell_type": "code",
   "execution_count": 4,
   "metadata": {},
   "outputs": [],
   "source": [
    "# from selenium import webdriver\n",
    "# from selenium.webdriver.common.by import By\n",
    "# from selenium.webdriver.common.keys import Keys\n",
    "\n",
    "# browser = webdriver.Firefox()\n",
    "\n",
    "# browser.get('http://www.yahoo.com')\n",
    "# assert 'Yahoo' in browser.title\n",
    "\n",
    "# elem = browser.find_element(By.NAME, 'p')  # Find the search box\n",
    "# elem.send_keys('seleniumhq' + Keys.RETURN)\n",
    "\n",
    "# browser.quit()"
   ]
  },
  {
   "cell_type": "code",
   "execution_count": 5,
   "metadata": {},
   "outputs": [],
   "source": [
    "import logging"
   ]
  },
  {
   "cell_type": "code",
   "execution_count": 6,
   "metadata": {},
   "outputs": [],
   "source": [
    "from selenium import webdriver\n",
    "\n",
    "from bs4 import BeautifulSoup\n",
    "\n",
    "from selenium import webdriver\n",
    "from selenium.webdriver.common.by import By\n",
    "from selenium.webdriver.common.keys import Keys\n",
    "\n",
    "url=\"https://empowerprogram.hhs.gov/about-empowermap.html\"\n",
    "\n",
    "browser = webdriver.Firefox()\n",
    "\n",
    "browser.get(url)\n",
    "sitehtml= browser.page_source\n",
    "\n",
    "browser.quit()\n",
    "\n",
    "# Creating the sitehtml into a soup object \n",
    "soup=BeautifulSoup(sitehtml)\n",
    "\n"
   ]
  },
  {
   "cell_type": "code",
   "execution_count": 7,
   "metadata": {},
   "outputs": [
    {
     "name": "stdout",
     "output_type": "stream",
     "text": [
      "['/2016_HHSemPOWERMapHistoricalDataset.xlsx', '/2017_HHSemPOWERMapHistoricalDataset.xlsx', '/2018_HHSemPOWERMapHistoricalDataset.xlsx', '/2019_HHSemPOWERMapHistoricalDataset.xlsx', '/2020_HHSemPOWERMapHistoricalDataset.xlsx', '/2021_HHSemPOWERMapHistoricalDataset.xlsx', '/2022_HHSemPOWERMapHistoricalDataset.xlsx', '/2023_HHSemPOWERMapHistoricalDataset.xlsx']\n"
     ]
    }
   ],
   "source": [
    "# Starting to 'interrogate' the html page source. \n",
    "# pulling the site title from the html parsed\n",
    "start_of_url=\"https://empowerprogram.hhs.gov/\"\n",
    "# end_of_url=\"_HHSemPOWERMapHistoricalDataset.xlsx\"\n",
    "end_of_url=\".xlsx\"\n",
    "soup.title.text\n",
    "\n",
    "# Gives me all the url references on form the soup object page \n",
    "allurls= soup.find_all(\"a\")\n",
    "# syntax for list comprehension \n",
    "# [expression for item in iterable if condition]\n",
    "mydownloadlinks= [link[\"href\"] for link in allurls if link[\"href\"].endswith(end_of_url)]\n",
    "len(mydownloadlinks)\n",
    "print(mydownloadlinks)\n"
   ]
  },
  {
   "cell_type": "code",
   "execution_count": 8,
   "metadata": {},
   "outputs": [
    {
     "name": "stdout",
     "output_type": "stream",
     "text": [
      "/2016_HHSemPOWERMapHistoricalDataset.xlsx\n",
      "/2016_HHSemPOWERMapHistoricalDataset.xlsx\n"
     ]
    }
   ],
   "source": [
    "len(mydownloadlinks)\n",
    "# Slicing so that I get the last 5 characters of the links \n",
    "mydownloadlinks[0][-5:]\n",
    "\n",
    "for link in mydownloadlinks: \n",
    "    print(link)\n",
    "    break\n",
    "\n",
    "for link in mydownloadlinks: \n",
    "    print(link)\n",
    "    \n",
    "\n",
    "print(link)"
   ]
  },
  {
   "cell_type": "code",
   "execution_count": 9,
   "metadata": {},
   "outputs": [
    {
     "name": "stdout",
     "output_type": "stream",
     "text": [
      "https://empowerprogram.hhs.gov\n",
      "https://empowerprogram.hhs.gov/2016_HHSemPOWERMapHistoricalDataset.xlsx\n"
     ]
    }
   ],
   "source": [
    "start_of_url=\"https://empowerprogram.hhs.gov\"\n",
    "print(start_of_url)\n",
    "start_of_url +link\n",
    "\n",
    "newlink= start_of_url +link\n",
    "print(newlink)\n",
    "\n",
    "for link in mydownloadlinks:\n",
    "    newlink= start_of_url+link\n",
    "    print(newlink)"
   ]
  },
  {
   "cell_type": "code",
   "execution_count": 10,
   "metadata": {},
   "outputs": [
    {
     "name": "stdout",
     "output_type": "stream",
     "text": [
      "/2016_HHSemPOWERMapHistoricalDataset.xlsx\n",
      "https://empowerprogram.hhs.gov/2016_HHSemPOWERMapHistoricalDataset.xlsx\n",
      "/2016_HHSemPOWERMapHistoricalDataset.xlsx\n"
     ]
    }
   ],
   "source": [
    "\n",
    "for link in mydownloadlinks: \n",
    "    print(link)\n",
    "    full_link= start_of_url+link\n",
    "    print(full_link)\n",
    "    \n",
    "\n",
    "print(link)"
   ]
  },
  {
   "cell_type": "code",
   "execution_count": 11,
   "metadata": {},
   "outputs": [
    {
     "name": "stdout",
     "output_type": "stream",
     "text": [
      "<Response [200]>\n"
     ]
    }
   ],
   "source": [
    "response=requests.get(full_link)\n",
    "print(response)\n",
    "# response is 200, meaning that the request was successful\n",
    "\n",
    "for link in mydownloadlinks: \n",
    "    print(link)\n",
    "    full_link= start_of_url+link\n",
    "    print(full_link)\n",
    "    response=requests.get(full_link)\n",
    "    print(response)\n"
   ]
  },
  {
   "cell_type": "code",
   "execution_count": 17,
   "metadata": {},
   "outputs": [],
   "source": [
    "# response.content\n",
    "# above gives you binary xml which is not helpful to directly printout\n",
    "\n",
    "import os\n",
    "if not os.path.exists(\"out\"): \n",
    "    os.makedirs(\"out\")\n",
    "\n",
    "filename= full_link.split(\"/\")[-1]\n",
    "with open(os.path.join(\"out\", filename), \"wb\") as f:\n",
    "    f.write(response.content)\n"
   ]
  },
  {
   "cell_type": "code",
   "execution_count": 19,
   "metadata": {},
   "outputs": [
    {
     "name": "stdout",
     "output_type": "stream",
     "text": [
      "/2016_HHSemPOWERMapHistoricalDataset.xlsx\n",
      "2016_HHSemPOWERMapHistoricalDataset.xlsx\n",
      "/2017_HHSemPOWERMapHistoricalDataset.xlsx\n",
      "2017_HHSemPOWERMapHistoricalDataset.xlsx\n",
      "/2018_HHSemPOWERMapHistoricalDataset.xlsx\n",
      "2018_HHSemPOWERMapHistoricalDataset.xlsx\n",
      "/2019_HHSemPOWERMapHistoricalDataset.xlsx\n",
      "2019_HHSemPOWERMapHistoricalDataset.xlsx\n",
      "/2020_HHSemPOWERMapHistoricalDataset.xlsx\n",
      "2020_HHSemPOWERMapHistoricalDataset.xlsx\n",
      "/2021_HHSemPOWERMapHistoricalDataset.xlsx\n",
      "2021_HHSemPOWERMapHistoricalDataset.xlsx\n",
      "/2022_HHSemPOWERMapHistoricalDataset.xlsx\n",
      "2022_HHSemPOWERMapHistoricalDataset.xlsx\n",
      "/2023_HHSemPOWERMapHistoricalDataset.xlsx\n",
      "2023_HHSemPOWERMapHistoricalDataset.xlsx\n"
     ]
    }
   ],
   "source": [
    "# For the full loop\n",
    "from httpx import request\n",
    "\n",
    "for link in mydownloadlinks: \n",
    "    print(link)\n",
    "    full_link= start_of_url+link\n",
    "    filename= full_link.split(\"/\")[-1]\n",
    "    response=requests.get(full_link)\n",
    "    print(response)\n",
    "    with open(os.path.join(\"out\", filename), \"wb\") as f:\n",
    "        f.write(response.content)\n",
    "    print(filename)\n",
    "    "
   ]
  },
  {
   "cell_type": "code",
   "execution_count": 44,
   "metadata": {},
   "outputs": [
    {
     "data": {
      "text/plain": [
       "<bound method ExcelFile.close of <pandas.io.excel._base.ExcelFile object at 0x000001C663DD0550>>"
      ]
     },
     "execution_count": 44,
     "metadata": {},
     "output_type": "execute_result"
    }
   ],
   "source": [
    "import pandas as pd \n",
    "dat= pd.read_excel('out/2016_HHSemPOWERMapHistoricalDataset.xlsx')\n",
    "\n",
    "excelfilename='out/2016_HHSemPOWERMapHistoricalDataset.xlsx'\n",
    "x1=pd.ExcelFile(excelfilename)\n",
    "tab_names= x1.sheet_names\n",
    "\n",
    "df_dict={}\n",
    "for tab in tab_names:\n",
    "    df=x1.parse(tab)\n",
    "    df_dict[tab]=df\n",
    "\n",
    "x1.close"
   ]
  },
  {
   "cell_type": "code",
   "execution_count": 32,
   "metadata": {},
   "outputs": [
    {
     "name": "stdout",
     "output_type": "stream",
     "text": [
      "['State', 'County', 'Zip Code']\n"
     ]
    },
    {
     "data": {
      "text/plain": [
       "list"
      ]
     },
     "execution_count": 32,
     "metadata": {},
     "output_type": "execute_result"
    }
   ],
   "source": [
    "print(tab_names)\n",
    "type(tab_names)"
   ]
  },
  {
   "cell_type": "code",
   "execution_count": 12,
   "metadata": {},
   "outputs": [],
   "source": [
    "del df"
   ]
  },
  {
   "cell_type": "code",
   "execution_count": 43,
   "metadata": {},
   "outputs": [
    {
     "name": "stdout",
     "output_type": "stream",
     "text": [
      "dict_keys(['State', 'County', 'Zip_Code'])\n"
     ]
    }
   ],
   "source": [
    "print(df_dict.keys())\n",
    "datayear=\"_2016\"\n",
    "\n",
    "# Updating the dictionary keys \n",
    "newdict={\"Zip_Code\":df_dict[\"Zip Code\"]}\n",
    "df_dict.update(newdict)\n",
    "df_dict.pop(\"Zip Code\")\n",
    "\n",
    "print(df_dict.keys())\n",
    "for key, value in df_dict.items(): \n",
    "    globals()[key+datayear]=value\n",
    "    df= value \n",
    "    df.to_csv(\"tmp.csv\", index=False)\n",
    "\n"
   ]
  },
  {
   "cell_type": "code",
   "execution_count": 42,
   "metadata": {},
   "outputs": [
    {
     "name": "stdout",
     "output_type": "stream",
     "text": [
      "dict_keys(['State', 'County', 'Zip_Code'])\n"
     ]
    }
   ],
   "source": [
    "# newdict={\"Zip_Code\":df_dict[\"Zip Code\"]}\n",
    "\n",
    "# df_dict.update(newdict)\n",
    "\n",
    "# df_dict.pop(\"Zip_Code\")\n",
    "print(df_dict.keys())"
   ]
  },
  {
   "cell_type": "code",
   "execution_count": null,
   "metadata": {},
   "outputs": [],
   "source": []
  },
  {
   "cell_type": "code",
   "execution_count": 30,
   "metadata": {},
   "outputs": [
    {
     "data": {
      "text/plain": [
       "dict_keys(['State', 'County', 'Zip Code'])"
      ]
     },
     "execution_count": 30,
     "metadata": {},
     "output_type": "execute_result"
    }
   ],
   "source": [
    "def createfilename(dict):\n",
    "    \"\"\"\n",
    "    docstring\n",
    "    \"\"\"\n",
    "    filenames=[]\n",
    "    for key, value in dict.items():\n",
    "        filenames.append(key)\n",
    "    filename=\"-\".join(filenames)\n",
    "    return filename\n",
    "\n",
    "createfilename(df_dict)\n",
    "\n",
    "df_dict.keys()"
   ]
  },
  {
   "cell_type": "code",
   "execution_count": null,
   "metadata": {},
   "outputs": [],
   "source": []
  }
 ],
 "metadata": {
  "kernelspec": {
   "display_name": "pvenv",
   "language": "python",
   "name": "python3"
  },
  "language_info": {
   "codemirror_mode": {
    "name": "ipython",
    "version": 3
   },
   "file_extension": ".py",
   "mimetype": "text/x-python",
   "name": "python",
   "nbconvert_exporter": "python",
   "pygments_lexer": "ipython3",
   "version": "3.12.0"
  }
 },
 "nbformat": 4,
 "nbformat_minor": 2
}
