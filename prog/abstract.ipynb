{
 "cells": [
  {
   "cell_type": "markdown",
   "metadata": {},
   "source": [
    "# Empower and CVI ICPE abstract analysis    "
   ]
  },
  {
   "cell_type": "code",
   "execution_count": 1,
   "metadata": {},
   "outputs": [
    {
     "name": "stdout",
     "output_type": "stream",
     "text": [
      "c:\\Users\\jwan\\OneDrive - University of North Carolina at Chapel Hill\\RAship\\place_health\n",
      "True\n",
      "['abstract.ipynb', 'CVI', 'dat', 'doc', 'out', 'place_health.code-workspace', 'prog', 'writing']\n"
     ]
    }
   ],
   "source": [
    "#Loading the data \n",
    "import pandas as pd\n",
    "import numpy as np\n",
    "import matplotlib.pyplot as plt\n",
    "import seaborn as sns\n",
    "import os\n",
    "import sys\n",
    "\n",
    "\n",
    "print(os.getcwd())\n",
    "empower2016_state=pd.read_excel(\"./dat/2016_HHSemPOWERMapHistoricalDataset.xlsx\", sheet_name=\"State\")\n",
    "empower2016_county=pd.read_excel(\"./dat/2016_HHSemPOWERMapHistoricalDataset.xlsx\", sheet_name=\"County\") \n",
    "empower2016_zip=pd.read_excel(\"./dat/2016_HHSemPOWERMapHistoricalDataset.xlsx\", sheet_name=\"Zip Code\")\n",
    "CVIclimate_county=pd.read_csv(\"./CVI/CVI-county-pct/CVI-county-pct-comb-climate.csv\")   \n",
    "\n",
    "print(os.path.isfile(\"./dat/2016_HHSemPOWERMapHistoricalDataset.xlsx\"))\n",
    "print(os.listdir())"
   ]
  },
  {
   "cell_type": "code",
   "execution_count": 4,
   "metadata": {},
   "outputs": [
    {
     "name": "stdout",
     "output_type": "stream",
     "text": [
      "True\n"
     ]
    }
   ],
   "source": [
    "print(os.path.isfile(\"./dat/2016_HHSemPOWERMapHistoricalDataset.xlsx\"))"
   ]
  },
  {
   "cell_type": "code",
   "execution_count": 3,
   "metadata": {},
   "outputs": [
    {
     "name": "stdout",
     "output_type": "stream",
     "text": [
      "FIPS_Code                                  int64\n",
      "County_FIPS_Code                           int64\n",
      "County                                    object\n",
      "State_FIPS_Code                            int64\n",
      "State                                     object\n",
      "Jan_2016_Medicare_Benes                    int64\n",
      "Jan_2016_Power_Dependent_Devices_DME       int64\n",
      "Feb_2016_Medicare_Benes                    int64\n",
      "Feb_2016_Power_Dependent_Devices_DME       int64\n",
      "Mar_2016_Medicare_Benes                    int64\n",
      "Mar_2016_Power_Dependent_Devices_DME       int64\n",
      "Apr_2016_Medicare_Benes                    int64\n",
      "Apr_2016_Power_Dependent_Devices_DME       int64\n",
      "May_2016_Medicare_Benes                    int64\n",
      "May_2016_Power_Dependent_Devices_DME       int64\n",
      "Jun_2016_Medicare_Benes                    int64\n",
      "Jun_2016_ Power_Dependent_Devices_DME      int64\n",
      "Jul_2016_Medicare_Benes                    int64\n",
      "Jul_2016_Power_Dependent_Devices_DME       int64\n",
      "Aug_2016_Medicare_Benes                    int64\n",
      "Aug_2016_Power_Dependent_Devices_DME       int64\n",
      "Sep_2016_Medicare_Benes                    int64\n",
      "Sep_2016_Power_Dependent_Devices_DME       int64\n",
      "Oct_2016_Medicare_Benes                    int64\n",
      "Oct_2016_Power_Dependent_Devices_DME       int64\n",
      "Nov_2016_Medicare_Benes                    int64\n",
      "Nov_2016_Power_Dependent_Devices_DME       int64\n",
      "Dec_2016_Medicare_Benes                    int64\n",
      "Dec_2016_Power_Dependent_Devices_DME       int64\n",
      "dtype: object\n",
      "   FIPS_Code  County_FIPS_Code    County  State_FIPS_Code State  \\\n",
      "0       1001                 1  Autauga                 1   AL    \n",
      "1       1003                 3  Baldwin                 1   AL    \n",
      "2       1005                 5  Barbour                 1   AL    \n",
      "3       1007                 7     Bibb                 1   AL    \n",
      "4       1009                 9   Blount                 1   AL    \n",
      "\n",
      "   Jan_2016_Medicare_Benes  Jan_2016_Power_Dependent_Devices_DME  \\\n",
      "0                     9025                                   546   \n",
      "1                    42231                                  2025   \n",
      "2                     5266                                   242   \n",
      "3                     4616                                   211   \n",
      "4                     8631                                   594   \n",
      "\n",
      "   Feb_2016_Medicare_Benes  Feb_2016_Power_Dependent_Devices_DME  \\\n",
      "0                     9043                                   546   \n",
      "1                    42434                                  2037   \n",
      "2                     5267                                   238   \n",
      "3                     4623                                   211   \n",
      "4                     8631                                   589   \n",
      "\n",
      "   Mar_2016_Medicare_Benes  ...  Aug_2016_Medicare_Benes  \\\n",
      "0                     9045  ...                     9142   \n",
      "1                    42599  ...                    43236   \n",
      "2                     5281  ...                     5310   \n",
      "3                     4623  ...                     4621   \n",
      "4                     8655  ...                     8670   \n",
      "\n",
      "   Aug_2016_Power_Dependent_Devices_DME  Sep_2016_Medicare_Benes  \\\n",
      "0                                   529                     9206   \n",
      "1                                  2034                    43434   \n",
      "2                                   251                     5342   \n",
      "3                                   194                     4635   \n",
      "4                                   567                     8708   \n",
      "\n",
      "   Sep_2016_Power_Dependent_Devices_DME   Oct_2016_Medicare_Benes  \\\n",
      "0                                    546                     9236   \n",
      "1                                   2041                    43669   \n",
      "2                                    254                     5348   \n",
      "3                                    190                     4620   \n",
      "4                                    575                     8710   \n",
      "\n",
      "   Oct_2016_Power_Dependent_Devices_DME   Nov_2016_Medicare_Benes  \\\n",
      "0                                    577                     9257   \n",
      "1                                   2117                    43855   \n",
      "2                                    260                     5352   \n",
      "3                                    209                     4624   \n",
      "4                                    585                     8733   \n",
      "\n",
      "   Nov_2016_Power_Dependent_Devices_DME   Dec_2016_Medicare_Benes  \\\n",
      "0                                    589                     9275   \n",
      "1                                   2133                    44002   \n",
      "2                                    264                     5345   \n",
      "3                                    218                     4620   \n",
      "4                                    591                     8712   \n",
      "\n",
      "   Dec_2016_Power_Dependent_Devices_DME   \n",
      "0                                    595  \n",
      "1                                   2129  \n",
      "2                                    254  \n",
      "3                                    222  \n",
      "4                                    594  \n",
      "\n",
      "[5 rows x 29 columns]\n",
      "row#                              int64\n",
      "Name                             object\n",
      "FIPS                              int64\n",
      "Source                           object\n",
      "ToxPi Score                     float64\n",
      "ClimateChange.Health            float64\n",
      "ClimateChange.SocialEconomic    float64\n",
      "ClimateChange.ExtremeEvents     float64\n",
      "dtype: object\n"
     ]
    }
   ],
   "source": [
    "print(empower2016_county.dtypes)\n",
    "print(empower2016_county.head())\n",
    "print(CVIclimate_county.dtypes)"
   ]
  },
  {
   "cell_type": "code",
   "execution_count": null,
   "metadata": {},
   "outputs": [],
   "source": [
    "merged_df = empower2016_county.merge(CVIclimate_county, on='FIPS code', how='left')\n",
    "merged_df = CVIclimate_county.merge(empower2016_county, left_on='FIPS', right_on='County_Fips_Code', how='left')\n"
   ]
  }
 ],
 "metadata": {
  "kernelspec": {
   "display_name": "Python 3",
   "language": "python",
   "name": "python3"
  },
  "language_info": {
   "codemirror_mode": {
    "name": "ipython",
    "version": 3
   },
   "file_extension": ".py",
   "mimetype": "text/x-python",
   "name": "python",
   "nbconvert_exporter": "python",
   "pygments_lexer": "ipython3",
   "version": "3.12.0"
  }
 },
 "nbformat": 4,
 "nbformat_minor": 2
}
